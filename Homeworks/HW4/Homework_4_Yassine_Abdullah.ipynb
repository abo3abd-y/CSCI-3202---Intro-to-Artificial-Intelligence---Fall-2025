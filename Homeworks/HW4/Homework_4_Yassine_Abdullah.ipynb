{
 "cells": [
  {
   "cell_type": "markdown",
   "metadata": {},
   "source": [
    "# CSCI 3202, Fall 2025\n",
    "### Homework 4\n",
    "### Due: Monday, September 29 at 11:59 PM\n",
    "\n",
    "### 60 points total\n",
    "<br> \n",
    "\n",
    "### Your name: Abdullah Yassine\n",
    "\n",
    "<br> "
   ]
  },
  {
   "cell_type": "markdown",
   "metadata": {},
   "source": [
    "---\n",
    "\n",
    "There is no coding in this assignment. Type your answers in a Markdown cell using Latex formatting commands. If you're unfamiliar with Latex, it's used for formatting equations and other mathematical content. Here are a few examples that you might find useful.\n",
    "### Displaying an equation:\n",
    "$$P(a | b ) = 0.5$$\n",
    "### Displaying a fraction:\n",
    "$$ \\frac{a}{b}$$\n",
    "### Nested fractions:\n",
    "$$ \\frac{a}{\\frac{c}{b}}$$\n",
    "### Adding fractions:\n",
    "$$ \\frac{a}{b} + \\frac{d}{c}$$\n",
    "\n",
    "When you type your answers for each of the questions in this assignment, we need to see that you know how to set up the problem, including values assigned to individual components of the problem. We don't need to see every step of your calculations, just your final computed answer.\n",
    "\n",
    "For more information about how to use Latex, here is a great reference: https://ashki23.github.io/markdown-latex.html"
   ]
  },
  {
   "cell_type": "markdown",
   "metadata": {},
   "source": [
    "### 1. Playing Card Probabilities (8 points)\n",
    "\n",
    "Consider a standard deck of playing cards and answer the following questions:"
   ]
  },
  {
   "cell_type": "markdown",
   "metadata": {},
   "source": [
    "### a. What is the probability of drawing a Queen of any suit?"
   ]
  },
  {
   "cell_type": "markdown",
   "metadata": {},
   "source": [
    "Recall that there are 4 suits: Clubs, Spades, Hearts, and Diamonds. This means that there are 4 A's, 4 1's, 4 2's, ..., 4 Q's, 4 K's.\n",
    "\n",
    "Since there are 4 Queens, and there are 52 cards, $P(\\text{drawing a Queen of any suit}) = \\frac{4}{52} = \\frac{1}{13}$"
   ]
  },
  {
   "cell_type": "markdown",
   "metadata": {},
   "source": [
    "### b. What is the probability of drawing a card that is of a red suit?"
   ]
  },
  {
   "cell_type": "markdown",
   "metadata": {},
   "source": [
    "Recall that there the cards can be categorized into two groups other than suits: red and black. Red gets a half, and the black gets the second half. Thus, Red has 26 cards and Black has 26 cards.\n",
    "\n",
    "Thus: $$P(\\text{drawing a card that is of a red suit}) = \\frac{26}{52} = \\frac{1}{2}$$"
   ]
  },
  {
   "cell_type": "markdown",
   "metadata": {},
   "source": [
    "### c. What is the probability of drawing a Queen OR a card of a red suit?"
   ]
  },
  {
   "cell_type": "markdown",
   "metadata": {},
   "source": [
    "Recall that we said that Red has half of the cards; it also contains some of those Queen cards. We want to make sure that we don't double count. We know there are 4 Queens in total as discussed in part a. 2 of those Queen cards belong to Red; the other two belong to Black. Therefore, we only want to consider those that are belonging to black and add that probability to the probability of drawing a red.\n",
    "\n",
    "Thus:\n",
    "$$P(\\text{Queen OR a card of a red suit}) = P(\\text{Black Queen}) + P(\\text{Red}) = \\frac{2}{52} + \\frac{1}{2} = \\frac{1}{26} + \\frac{1}{2} = \\frac{7}{13}$$"
   ]
  },
  {
   "cell_type": "markdown",
   "metadata": {},
   "source": [
    "### d. Describe in your own words what a joint probability is."
   ]
  },
  {
   "cell_type": "markdown",
   "metadata": {},
   "source": [
    "A joing probability is the probability of two events happening at the same time. For example, if we have an event A being \"rain\" and event B being \"thunder\", then the joint probability of A and B is the probability of having rain and thunder at the same time."
   ]
  },
  {
   "cell_type": "markdown",
   "metadata": {},
   "source": [
    "### 2. Rolling Dice (12 points)\n",
    "\n",
    "Consider two die with 6 equally weighted sides."
   ]
  },
  {
   "cell_type": "markdown",
   "metadata": {},
   "source": [
    "### a. What is the probability of a dice roll summing to 9?"
   ]
  },
  {
   "cell_type": "markdown",
   "metadata": {},
   "source": [
    "Since we have 6 sides, we know the numbers range from 1 to 6. Dice1 has {1,2,...,6}, Dice2 has {1,2,...,6}. We want to think about the number of combinations we can pick from a number from each set. If we have this set {1,2,...,6}, then we can permute that with repetition allowed so we can think of how many ways we can combine these two die together. Since we have a set of size 6, and we are permuting 2 out of this set with repetition, we do P(6,2): $$P(6,2) = 6^2 = 36$$.\n",
    "\n",
    "Therefore, there are 36 ways we can combine two values from each dice. Now, we need to calculate how many ways we have two numbers adding up to 9. Here is the set: {6+3, 5+4}. There is only two ways as you can see. However, since order matters here, there are actually 4 ways.\n",
    "\n",
    "Thus: $$P(\\text{sum to 9}) = \\frac{4}{36} = \\frac{1}{9}$$"
   ]
  },
  {
   "cell_type": "markdown",
   "metadata": {},
   "source": [
    "### b. What is the probability of a dice roll summing to an odd number 8 times in a row?"
   ]
  },
  {
   "cell_type": "markdown",
   "metadata": {},
   "source": [
    "First, we need to know how many ways we can get the two die add up to an odd number. We can count and add each of the 36 possibilities and then count the ones that add up to an odd number. But, this is not the way. Let's think about this logically.\n",
    "\n",
    "Let $2n$ be an even number and $2m + 1$ be an odd number, where $n$ and $m$ are positive integers. Let's see what happens if we add them up: $$2n + 2m + 1 = 2 \\times (n + m) + 1$$\n",
    "\n",
    "Therefore, the result is always an odd number because of the plus 1 at the end! This tells that the addition of an even number with an odd number is always an odd number (We can do similar analysis with odd + odd and even + even and found the result is always even, so this is the only way we can get an odd number). Thus, the set of even numbers we care about: {2,4,6}. The set of odd numbers we can about: {1,3,5}. Each set's size is 3. Therefore, if we only picking from one of the sets, then from another, then the number of combinations is $3 \\times 3 = 9$. However, for example, we are only counting $(2,1)$ and not also the other way around. Thus, because order matters, we double the count: $9 \\times 2 = 18$. Thus, there are 18 ways we can add two numbers to get an odd number.\n",
    "\n",
    "Now, we are asked the probability of getting that 8 times in a row. Since rolling two die together twice, thrice, etc., is independent of each other, we can just multiple the individual probabilities: $$P(\\text{odd 8 times}) = P(\\text{odd})_1 \\cdot P(\\text{odd})_2 \\cdots P(\\text{odd})_8 = \\left(\\frac{18}{36}\\right)^8 = \\left(\\frac{1}{2}\\right)^8 = \\frac{1}{256}$$\n",
    "\n"
   ]
  },
  {
   "cell_type": "markdown",
   "metadata": {},
   "source": [
    "### c. Let's say that you roll one dice at a time. Your first die comes up as an odd number. What is the probability that your dice will sum to 9 after you roll the second die?"
   ]
  },
  {
   "cell_type": "markdown",
   "metadata": {},
   "source": [
    "The first one must be an odd number: {1,3,5}. But, the second must be a number such that when you add them, it must add up to 9. The second number can be: {1,2,3,4,5,6}. Thus, we can get this set: {5+4, 3+6}. There are only 2 possibilities.\n",
    "\n",
    "Notice that we are rolling one dice at a time, so the total combinations is no longer 36. But it's easy to calculate the total combinations in this scenario. The first set's size is 3, the second set's size is 6, so the number of unique combinations we can have is $3 \\cdot 6 = 18$.\n",
    "\n",
    "Thus, $$P(\\text{sum = 9} | \\text{first one is odd}) = \\frac{2}{18} = \\frac{1}{9}$$"
   ]
  },
  {
   "cell_type": "markdown",
   "metadata": {},
   "source": [
    "### 3. Conditional Probability (20 points)\n",
    "The CU Buffs football team is preparing for a big game against their rival, and sports analysts are trying to predict whether the Buffs will win or lose. They have collaborated with a group of dedicated CU Buffs fans who are known for their accurate predictions about the team's performance. There are a total of 2389 game predictions in their data set, of which 1497 are a victory for CU Buffs. The sports prediction model correctly forecasts 1425 games as CU Buffs victories and 461 games as losses. However, the model isn't perfect and sometimes makes incorrect predictions. It incorrectly predicted 431 losses as Buffs victories and 72 victories as losses.\n",
    "\n",
    "|                       |   True_Win   |   True_Lose   |\n",
    "| -----------           | -----------  | -----------   |\n",
    "| <b>Pred_Win</b>       | 1425         | 431           |\n",
    "| <b>Pred_Lose</b>      | 72           | 461           |\n",
    "| <b>Total</b>          | 1497         | 892           |"
   ]
  },
  {
   "cell_type": "markdown",
   "metadata": {
    "tags": []
   },
   "source": [
    "#### (a)\n",
    "If the CU Buffs team actually win a game, what is the chance the ML classifier correctly identified the game as a victory?"
   ]
  },
  {
   "cell_type": "markdown",
   "metadata": {},
   "source": [
    "This question is asking for the conditional probability. Let's say that A = \"CU wins the game\" and B = Model predicts that CU wins the game. Then, we are essentially being asked:\n",
    "$$P(B | A)$$\n",
    "\n",
    "To solve this, we need to use the conditional probability equation:\n",
    "$$P(B|A) = \\frac{P(A,B)}{P(A)}$$\n",
    "\n",
    "P(A) is the probability that CU wins games from the data set. From the table, we are adding column values for True_win: $1425 + 72 = 1497$. We are supposed to divide that by True_Lose: $431 + 461 = 892$. Therefore, $P(A) = \\frac{1497}{1497 + 892} = \\frac{1497}{2389} = 0.627$\n",
    "\n",
    "Next, we need to calculate $P(A,B)$, which is given in the table. It's basically asking for the probability that CU wins and the model actually predicts that to happen. The number of games model predicts CU to win and they do is 1425. Now, we need to divide that by the total number of games in the data set, which is 2389. \n",
    "$$P(A,B) = \\frac{1425}{2389} = 0.597$$\n",
    "\n",
    "Therefore:\n",
    "$$P(B|A) = \\frac{P(A,B)}{P(A)} = \\frac{0.597}{0.627} = 0.952$$"
   ]
  },
  {
   "cell_type": "markdown",
   "metadata": {},
   "source": [
    "#### (b)\n",
    "We sample a game from the data set and learn the ML algorithm predicted this game as a loss. What is the probability that it was incorrect and CU Buffs actually won that game?"
   ]
  },
  {
   "cell_type": "markdown",
   "metadata": {},
   "source": [
    "We define A = sample a game and model predicts a loss, B = Buffs actually win the game. In other words, what is $P(B|A) = \\frac{P(A,B)}{P(A)}$?\n",
    "\n",
    "First, let's try to find $P(A)$, the probability that ML predicts a game loss. We first need to sum all the number of matches ML predicts a loss: $72+461=533$. Now, we divide this number by the total number of matches in the data set, which is $2389$ to get the probability: $$P(A)=\\frac{533}{2389}=0.223$$\n",
    "\n",
    "Next, we need to calculate $P(A,B)$ which is the probability that ML predicts a loss when CU actually wins. This number of matches is determined easily from the entry in the table, $72$. We need to divide this number by the total number of matches, $2389$. Thus, $P(A,B)=\\frac{72}{2389}=0.03$\n",
    "\n",
    "Therefore: $$P(B|A) = \\frac{P(A,B)}{P(A)} = \\frac{0.03}{0.223}=0.135$$"
   ]
  },
  {
   "cell_type": "markdown",
   "metadata": {},
   "source": [
    "#### (c)\n",
    "What is the difference between a <i>joint probability</i> and a <i>marginal probability</i>?"
   ]
  },
  {
   "cell_type": "markdown",
   "metadata": {},
   "source": [
    "Joint probability is the probability of two or more events happening at the same time simultaneously ($P(A,B)$).\n",
    "\n",
    "On the other hand, marginal probability is the probability of a single event happening. It's calculated by summing up the joint probabilities across all possible outcomes of the other variables ($P(A)$ or $P(B)$)."
   ]
  },
  {
   "cell_type": "markdown",
   "metadata": {},
   "source": [
    "#### (d)\n",
    "What is the probability that the machine learning system predicted that a game was a victory? Is this a joint or a marginal probability?"
   ]
  },
  {
   "cell_type": "markdown",
   "metadata": {},
   "source": [
    "Let A = ML predicts a game is a victory. This is a marginal probability because it requires summing up the joint probabilities across all possible outcomes of the other variables. According to the table, ML predicts Buffs to win $1425$ matches when Buffs actually win. ML also predicts Buffs to win $431$ matches when Buffs actually lose. Therefore, ML predicts Buffs to win $1425 + 431 = 1856$. Now, we divide this number by total number of matches, which is $2389$.\n",
    "\n",
    "Thus: $$P(A) = \\frac{1856}{2389} = 0.7769$$"
   ]
  },
  {
   "cell_type": "markdown",
   "metadata": {},
   "source": [
    "### 4. Bayes' Rule (20 points)"
   ]
  },
  {
   "cell_type": "markdown",
   "metadata": {},
   "source": [
    "### (a). \n",
    "Two bags contain different combinations of candies. Bag 1 has six chocolates and four gummy bears, while Bag 2 has five chocolates and five gummy bears. A bag is chosen at random: P(bag=1) = P(bag=2) = 0.5, and a candy drawn from this bag happens to be a chocolate. What is the probability that the chocolate came from Bag 1? (i.e., P(bag=1 | candy=chocolate)=?)"
   ]
  },
  {
   "cell_type": "markdown",
   "metadata": {},
   "source": [
    "Let's use Bayes' Rule: $$P(\\text{bag=1} | \\text{candy=chocolate}) = \\frac{P(\\text{candy=chocolate} | \\text{bag=1}) \\cdot P(\\text{bag=1})}{P(\\text{candy=chocolate})}$$\n",
    "\n",
    "Let's calculate $P(\\text{candy=chocolate})$ first. This probability, marginal probability, requires summing up the joint probabilities across all possible outcomes of the other variables. Thus, we need to add the probability that the candy is chocolate and probability the bag is 1 and add that to the probability that the candy is chocolate and the bag is 2.\n",
    "\n",
    "So, far: $$P(\\text{candy=chocolate}) = P(\\text{candy=chocolate, bag=1}) + P(\\text{candy=chocolate, bag=2})$$\n",
    "\n",
    "Let's calculate $P(\\text{candy=chocolate, bag=1})$ using conditional probability: $$P(\\text{candy=chocolate, bag=1}) = P(\\text{candy=chocolate} | \\text{bag=1}) \\cdot P(\\text{bag=1})$$\n",
    "\n",
    "We know that $P(bag=1) = 0.5$. For $P(\\text{candy=chocolate} | \\text{bag=1})$, we just divide number of chocolate candies over the total number of candies, thus $P(\\text{candy=chocolate} | \\text{bag=1}) = \\frac{6}{10} = \\frac{3}{5}$.\n",
    "\n",
    "So, $$P(\\text{candy=chocolate, bag=1}) = \\frac{3}{5} \\cdot \\frac{1}{2} = \\frac{3}{10}$$\n",
    "\n",
    "Now, we need to calculate $P(\\text{candy=chocolate, bag=2})$. It's the same exact steps as bag 1 but we are using bag 2. $P(bag=2)=0.5$ and $P(\\text{candy=chocolate} | \\text{bag=2}) = \\frac{5}{10} = \\frac{1}{2}$ since there are 5 chocolate candies and there are 10 total candies for bag 2. Thus, $$P(\\text{candy=chocolate, bag=2}) = \\frac{1}{2} \\cdot \\frac{1}{2} = \\frac{1}{4}$$\n",
    "\n",
    "Now, we just need to add these two probabilities to get $P(\\text{candy=chocolate})$: $$P(\\text{candy=chocolate}) = P(\\text{candy=chocolate, bag=1}) + P(\\text{candy=chocolate, bag=2}) = \\frac{3}{10} + \\frac{1}{4} = \\frac{11}{20}$$\n",
    "\n",
    "Now, we need to calculate $P(\\text{candy=chocolate} | \\text{bag=1}) \\cdot P(\\text{bag=1})$. We already know those probabilities from previous calculations: $$P(\\text{candy=chocolate} | \\text{bag=1}) \\cdot P(\\text{bag=1}) = \\frac{3}{5} \\cdot \\frac{1}{2} = \\frac{3}{10}$$\n",
    "\n",
    "Thus: $$P(\\text{bag=1} | \\text{candy=chocolate}) = \\frac{P(\\text{candy=chocolate} | \\text{bag=1}) \\cdot P(\\text{bag=1})}{P(\\text{candy=chocolate})} = \\frac{\\frac{3}{10}}{\\frac{11}{20}} = \\frac{6}{11}$$"
   ]
  },
  {
   "cell_type": "markdown",
   "metadata": {},
   "source": [
    "### (b).\n",
    "\n",
    "Two cards are placed in an envelope as follows: A fair six-sided die is rolled, and a blue card is placed in the envelope if an even number (2, 4, or 6) comes up, otherwise a red card is placed in the envelope. The die is rolled again, and a red card is placed in the envelope if an odd number (1, 3, or 5) comes up, otherwise a blue card is placed in the envelope. Cards are drawn from the envelope three times in succession (always replacing the drawn card back in the envelope). It is found that on all three occasions a red card is drawn. What is the probability that both cards in the envelope are red?"
   ]
  },
  {
   "cell_type": "markdown",
   "metadata": {},
   "source": [
    "The question is essentially asking: $$P(\\text{Both are red} | \\text{all three cards drawn are red})$$\n",
    "\n",
    "We are still using Bayes' Rule: $$P(\\text{Both are red} | \\text{all three cards drawn are red}) = \\frac{P(\\text{all three cards drawn are red} | \\text{Both are red}) \\cdot P(\\text{Both are red})}{P(\\text{all three cards drawn are red})}$$\n",
    "\n",
    "Let's start with $P(\\text{all three cards drawn are red})$. This is a marginal probabilities requiring some summation of joint probabilities (however, later on, you'll there is a very simple way of calculating the probability of three cards drawn being red). We can the probabilities that all cards drawn is red given that one is blue and the other red and probability that all drawn is red given that both is red. That is, $$P(\\text{all three cards drawn are red}) = P(\\text{all three cards drawn are red} , \\text{Both are red}) + P(\\text{all three cards drawn are red} , \\text{first card is red and the second is blue}) \\\\+ P(\\text{all three cards drawn are red} , \\text{first card is blue and the second is red}) $$\n",
    "\n",
    "Let's try to calculate $P(\\text{all three cards drawn are red})$. In here, you must realize that there are 4 possibilities of pairs of cards:\n",
    "1. red,red\n",
    "2. red, blue\n",
    "3. blue, red\n",
    "4. blue, blue\n",
    "\n",
    "Since the die is fair, all are equally likely to happen. For each, if they are given, what's the probability that a draw a card from the set and it's red?:\n",
    "1. red,red : 1\n",
    "2. red, blue: 1/2\n",
    "3. blue, red: 1/2\n",
    "4. blue, blue : 0\n",
    "\n",
    "If I put the card back, then the set of cards are the same, and I'm drawing again, so each draw is independent of each other. What's the probability that I draw two cards and both are red:\n",
    "1. red, red: $1^2=1$\n",
    "2. red, blue: $1/2^2=1/4$\n",
    "3. blue, red: $1/2^2=1/4$\n",
    "4. blue, blue: $0$\n",
    "\n",
    "You get the idea. Now, what's the probability that all drawn cards are red? Well, we just the probabilities of all these sets but we also multiply them by $1/4$ since they are all equally likely to happen: $$P(\\text{all three cards drawn are red}) = 1/4 \\cdot 1 + 1/4 \\cdot (1/2^3) + 1/4 \\cdot (1/2^3) + 1/4 \\cdot 0^3 = 1/4 + 1/32 + 1/32 = 5/16$$\n",
    "\n",
    "Next, let's calculate $P(\\text{we get two red cards})$. As previously mentioned, there is an $1/4$ probability that you get any combination of cards since the dice is fair and the even and odd number situation is all equally likey to happen because the size of set {1,3,5} is same as {2,4,6}. Therefore, $P(\\text{we get two red cards}) = 1/4$\n",
    "\n",
    "For the last peice of the puzzle, $P(\\text{all three cards drawn are red} | \\text{Both are red})$, we already know from previous calculations that *given* that both cards are red, what's the probability that all three cards drawn are red? This is easy, it must be 1.\n",
    "\n",
    "Therefore: $$P(\\text{Both are red} | \\text{all three cards drawn are red}) = \\frac{P(\\text{all three cards drawn are red} | \\text{Both are red}) \\cdot P(\\text{Both are red})}{P(\\text{all three cards drawn are red})} = \\frac{1 \\cdot 1/4}{5/16} = 4/5$$"
   ]
  },
  {
   "cell_type": "markdown",
   "metadata": {},
   "source": [
    "### (c).\n",
    "A secret government agency has developed a scanner that determines whether a person is an alien imposter. The scanner detects alien imposters with 95% reliability. However, 1% of the time the test returns a false positive for an upstanding citizen. The alien imposters are very dangerous, but also quite rare, with a prevalence in the population of only 0.1%. Upon a tip from an informant, the agency has administered the scanner to a suspicious person. \n",
    "\n",
    "#### i. \n",
    "Use the *Law of Total Probability* to calculate the probability that the suspicious person will test positive.\n",
    "\n",
    "#### ii.\n",
    "What is the probability that the person is actually an alien imposter given that they do test positive?"
   ]
  },
  {
   "cell_type": "markdown",
   "metadata": {},
   "source": [
    "i.\n",
    "\n",
    "The question is essentially asking for probability of testing positive. Using the law of total probability: \n",
    "$$P(\\text{predicts alien}) = P(\\text{predicts alien} | \\text{alien}) \\cdot P(\\text{alien}) + P(\\text{predicts alien} | \\text{human}) \\cdot P(\\text{human})$$\n",
    "\n",
    "It's given that $P(\\text{predicts alien} | \\text{alien}) = 0.95$, $P(\\text{alien}) = 0.001$, $P(\\text{predicts alien} | \\text{human}) = 0.01$. We can derive $P(\\text{human}) = 1 - P(\\text{alien}) = 1 - 0.001 = 0.999$. Now that we have all the relevant values, we can calculate: $$P(\\text{predicts alien}) = P(\\text{predicts alien} | \\text{alien}) \\cdot P(\\text{alien}) + P(\\text{predicts alien} | \\text{human}) \\cdot P(\\text{human}) = 0.95 \\cdot 0.001 + 0.01 \\cdot 0.999 = 0.01094$$\n"
   ]
  },
  {
   "cell_type": "markdown",
   "metadata": {},
   "source": [
    "ii.\n",
    "\n",
    "Essentially the question is asking us for $P(\\text{alien} | \\text{predicts alien})$. Here, we can use Bayes' Rule: $$P(\\text{alien} | \\text{predicts alien}) = \\frac{P(\\text{predicts alien} | \\text{alien}) \\cdot P(\\text{alien})}{P(\\text{predicts alien})}$$\n",
    "\n",
    "From the previous question, we know what $P(\\text{predicts alien} | \\text{alien})$ is, which is 0.95. We also know what $P(\\text{alien})$ is, which is 0.001. We also calculated from the previous question that $P(\\text{predicts alien}) = 0.01094$. Thus, now that we have all the values, we can calculate $P(\\text{alien} | \\text{predicts alien})$: $$P(\\text{alien} | \\text{predicts alien}) = \\frac{0.95 \\cdot 0.001}{0.01094} = 0.0868$$"
   ]
  },
  {
   "cell_type": "markdown",
   "metadata": {},
   "source": []
  }
 ],
 "metadata": {
  "kernelspec": {
   "display_name": "Python 3",
   "language": "python",
   "name": "python3"
  },
  "language_info": {
   "codemirror_mode": {
    "name": "ipython",
    "version": 3
   },
   "file_extension": ".py",
   "mimetype": "text/x-python",
   "name": "python",
   "nbconvert_exporter": "python",
   "pygments_lexer": "ipython3",
   "version": "3.13.2"
  }
 },
 "nbformat": 4,
 "nbformat_minor": 4
}
