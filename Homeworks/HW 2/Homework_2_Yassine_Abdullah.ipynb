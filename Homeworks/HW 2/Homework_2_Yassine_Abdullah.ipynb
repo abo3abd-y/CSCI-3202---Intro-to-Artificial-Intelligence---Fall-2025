{
 "cells": [
  {
   "cell_type": "code",
   "execution_count": null,
   "id": "9df5419a-17a9-4e61-afd2-08cd6c8df181",
   "metadata": {},
   "outputs": [],
   "source": []
  },
  {
   "cell_type": "markdown",
   "id": "53cd1f14-7d79-425b-ab76-3c37ca2b415f",
   "metadata": {},
   "source": [
    "# CSCI 3202 Fall 2025"
   ]
  },
  {
   "cell_type": "markdown",
   "id": "051c8722",
   "metadata": {},
   "source": [
    "### Homework 2 (60 pts)\n",
    "Due: Wednesday, September 10 at 11:59 pm"
   ]
  },
  {
   "cell_type": "markdown",
   "id": "71b3f503",
   "metadata": {},
   "source": [
    "**Name: Abdullah Yassine**"
   ]
  },
  {
   "cell_type": "markdown",
   "id": "87e04cbd",
   "metadata": {},
   "source": [
    "---\n",
    "**Use the graph shown below to answer the following questions.**"
   ]
  },
  {
   "attachments": {
    "3e47c020-91bb-4650-8254-24bfa0beb6a5.png": {
     "image/png": "[encoded data removed]"
    }
   },
   "cell_type": "markdown",
   "id": "b8b32a24-82aa-4967-abb2-69349a0fca1c",
   "metadata": {},
   "source": [
    "![Graph v2.png](attachment:3e47c020-91bb-4650-8254-24bfa0beb6a5.png)"
   ]
  },
  {
   "cell_type": "markdown",
   "id": "0ac9ac7a",
   "metadata": {},
   "source": [
    "---\n",
    "**Question 1. (10 points: 5 points each for BFS and DFS)**"
   ]
  },
  {
   "cell_type": "markdown",
   "id": "5393f238-1291-4b26-9bcc-62473bdd1d75",
   "metadata": {
    "editable": true,
    "slideshow": {
     "slide_type": ""
    },
    "tags": []
   },
   "source": [
    "By hand, use the BFS and recursive DFS algorithms showing the sequence of nodes BFS and recursive DFS will visit while starting at node 1 and with a goal of reaching node 7.  The traversal should visit each node in ascending order of the vertex numbers.  Divide the results up into steps, starting a new step when you remove a node from the queue or stack or when you return from a recursion function call. Show the frontier, explored (visited) nodes and actions taken for each step"
   ]
  },
  {
   "cell_type": "markdown",
   "id": "9081863d",
   "metadata": {},
   "source": [
    "BFS:\n",
    "\n",
    "Let's start with adding number 1 to the frontier. Frontier = {1}, visited = {}\n",
    "\n",
    "1. The loop begins, and we pop 1 from the frontier. 1 is not visited and 1 is not the goal, so we proceed to investigate its neighbors. We add 2 then 3 to the frontier. We also mark 1 as visited. Frontier = {2,3}, visited = {1}\n",
    "2. For the next iteration, since it's queue, it follows the FIFO principle: the longest element waiting, the first that comes out. In this case, we pop 2 and we find that it's not visited and not the goal, so we investigate its neighbors. We add 4 to the frontier, but not one since it's visited. We mark 2 as visited. Frontier = {3,4}, visited = {1,2}.\n",
    "3. For the third iteration, we pop 3. It's not visited and not the goal, so we investigate its neighbors. 1 is visited, so we don't enqueue (never enqueue the same element twice), and we enqueue 5. We mark 3 as visited. Frontier = {4,5}, visited = {1,2,3}.\n",
    "4. For the next iteration, we pop from the queue and we have 4. It's not the goal so we investigate the neighbors: 2 and 3 are visited so we ignore them, but 8 and 9 aren't, so we enqueue them in that order. We mark 4 as visited. Frontier = {5,8,9}, visited = {1,2,3,4}.\n",
    "5. For the next iteration, we pop 5 off the frontier, and it's not the goal so we investigate the neighbors. 3 is visited, so it's ignored. 6 isn't, so we add it to the queue. We mark 5 as visited. Frontier = {8,9,6}, visited = {1,2,3,4,5}.\n",
    "6. For the next iteration, we pop 8 off, and it's not the goal. Its neighbor, 4, is visited. We mark 8 as visited. Frontier = {9,6}, visited = {1,2,3,4,5,8}.\n",
    "7. For the next iteration, we pop 9 off, and it's not the goal. Its neighbor, 4, is visited. We mark 9 as visited. Frontier = {6}, visited = {1,2,3,4,5,8,9}.\n",
    "8. For the next iteration, we pop 6 off, and we check its neighbors. 5 is visited, so it's ignored. We add 7 to the queue. We mark 6 as visited. Frontier = {7}, visited = {1,2,3,4,5,8,9,6}.\n",
    "9. For the next iteration, we pop 7 off, and we know that this is the goal, so we return success. If you don't want to stop and simply just do this until you do the search for the entire graph, then we see that 7's neighbor, which is 6, is visited. We add 7 to the visited. Frontier = {}, visited = {1,2,3,4,5,8,9,6,7}. The queue is empty, so we stop the loop and the algorithm.\n",
    "\n",
    "DFS (recursive):\n",
    "\n",
    "We start with the source, in this case 1, and we mark it as visited. Thus, we check its neighbors:\n",
    "\n",
    "1. We check 2, and we call the recursion function on it as the \"source\" or the node for the parameter.\n",
    "2. We mark 2 as visited and we check its neighbors. 1 is visited, so it's ignored. 4 isn't, so we call the function on 4. Visited = {1,2}\n",
    "3. We mark 4 as visited and we check its neighbors. 2 is visited so it's ignored. We call the function on 3. Visited = {1,2,4}.\n",
    "4. We mark 3 as visited and check its neighbors. 1 and 4 are visited, so we ignore them. We call the function on 5. visited = {1,2,4,3}.\n",
    "5. We mark 5 as visited and we check its neighbors. 3 is visited, so we ignore them. We call the function on 6. visited = {1,2,4,3,5}.\n",
    "6. We mark 6 as visited and we check its neighbors. 5 is visited, so we ignore them. We call the function on 7. Visited = {1,2,4,3,5,6}.\n",
    "7. We mark 7 as visited and we see that this is the goal. At this point, we can just return success and stop here. Otherwise, we check its neighbors and we see 6 is visited. We return from the function.\n",
    "8. The next on stack is the call on 6. It does not have other neighbors, so we return.\n",
    "9. The next on stack is the call on 5. It does not have other neighbors, so we return.\n",
    "10. The next on stack is the call on 3. It does not have other neighbors, so we return.\n",
    "11. The next on stack is the call on 4. It does not have other neighbors, so we return.\n",
    "11. The next on stack is the call on 2. It does not have other neighbors, so we return.\n",
    "11. The next on stack is the call on 1. It does not have other neighbors, so we return. At this point, there is no more calls on the stack, so the algorithm just finishes here."
   ]
  },
  {
   "cell_type": "markdown",
   "id": "343da345",
   "metadata": {},
   "source": [
    "---\n",
    "**Question 2. (10 points)**"
   ]
  },
  {
   "cell_type": "markdown",
   "id": "6d68431f",
   "metadata": {},
   "source": [
    "This homework uses the aima python github repository. You will need a python function from the aima-python folder.  Since we will be using the function in this repository quite a bit, it is probably easiest to clone it:\n",
    "\n",
    "git clone https://github.com/aimacode/aima-python.git\n",
    "\n",
    "Once you have the repository, you will need to copy the .py file(s) you need into the directory containing your homework, or copy the the homework notebook (not the folder containing the .ipynb file) into the aima-data directory.\n",
    "\n",
    "For this assignment, you will need the file:\n",
    "\n",
    "\n",
    "search.py\n",
    "utils4e.py\n",
    "\n",
    "Note: You should copy the file(s) from the repository, not move them. If you move the files, they won't be in the repository for your next assignment.\n",
    "\n",
    "After you do this, if the import statement below fails, you will need to restart either the Jupyter server or your Python kernel. We are restarting to clear the cache for the import statement."
   ]
  },
  {
   "cell_type": "code",
   "execution_count": 1,
   "id": "9ebf7868-d6e7-4f4e-ab15-a3f98a1ee7ec",
   "metadata": {},
   "outputs": [],
   "source": [
    "# Load the search functions into your notebook\n",
    "import search\n",
    "import utils4e"
   ]
  },
  {
   "cell_type": "markdown",
   "id": "f3cbf6aa-a38e-411d-9f21-3706ecd36fd0",
   "metadata": {},
   "source": [
    "Using search.py from the AIMA repository and the abstract class Problem:\n",
    "\n",
    "* Create a data structure that holds your graph from problem 1 and construct the graph. Print the data to show how it is stored\n",
    "* Fill in the methods needed to search your graph, by subclassing class Problem and creating a concrete subclass. You will need to modify the actions, result and __init__ methods\n"
   ]
  },
  {
   "cell_type": "code",
   "execution_count": 2,
   "id": "a22c1586",
   "metadata": {},
   "outputs": [],
   "source": [
    "from search import Problem\n",
    "class GraphProblem(Problem):\n",
    "    def __init__(self, initial, goal = None, graph : dict[str, list[str]] = None):\n",
    "        super().__init__(initial, goal)\n",
    "        self.graph = graph\n",
    "    def actions(self, state : str):\n",
    "        return self.graph[state]\n",
    "    def result(self, state : str, action : str):\n",
    "        if action in self.graph[state]:\n",
    "            return action\n",
    "        else:\n",
    "            print(f\"You cannot go from {state} to {action} directly; {state} isn't a neighbor of {action}.\")\n",
    "            return None\n",
    "\n",
    "    \n"
   ]
  },
  {
   "cell_type": "code",
   "execution_count": 3,
   "id": "52e3037c",
   "metadata": {},
   "outputs": [
    {
     "name": "stdout",
     "output_type": "stream",
     "text": [
      "Graph structure: {1: [2, 3], 2: [1, 4], 3: [1, 4, 5], 4: [2, 3, 8, 9], 5: [3, 6], 6: [5, 7], 7: [6], 8: [4], 9: [4]}\n",
      "Actions from 1: [2, 3]\n",
      "Result of going from 1 to 2: 2\n"
     ]
    }
   ],
   "source": [
    "graph = {\n",
    "    1: [2, 3],\n",
    "    2: [1, 4],\n",
    "    3: [1,4,5],\n",
    "    4: [2,3,8,9],\n",
    "    5: [3, 6],\n",
    "    6: [5, 7],\n",
    "    7 : [6],\n",
    "    8 : [4],\n",
    "    9 : [4]\n",
    "}\n",
    "\n",
    "problem = GraphProblem(initial='A', goal='F', graph=graph)\n",
    "\n",
    "print(\"Graph structure:\", problem.graph)\n",
    "print(\"Actions from 1:\", problem.actions(1))   # → ['B', 'C']\n",
    "if (result := problem.result(1, 2)):\n",
    "    print(\"Result of going from 1 to 2:\", result)"
   ]
  },
  {
   "cell_type": "markdown",
   "id": "7bf532b4",
   "metadata": {},
   "source": [
    "---\n",
    "**Question 3. (10 points: 5 points each for BFS and DFS)**"
   ]
  },
  {
   "cell_type": "markdown",
   "id": "e07a062d",
   "metadata": {},
   "source": [
    "Modify and run the search.py functions depth_first_graph_search() (line 216) and breadth_first_graph_search() (line 238), printing the nodes each function visits on its way to finding the goal. Print a list of nodes in the order visited for the BFS function and the DFS function.\n"
   ]
  },
  {
   "cell_type": "code",
   "execution_count": 4,
   "id": "999b1b66",
   "metadata": {},
   "outputs": [
    {
     "name": "stdout",
     "output_type": "stream",
     "text": [
      "1. Node visited: 1\n",
      "2. Node visited: 2\n",
      "3. Node visited: 3\n",
      "4. Node visited: 4\n",
      "5. Node visited: 5\n",
      "6. Node visited: 8\n",
      "7. Node visited: 9\n",
      "8. Node visited: 6\n",
      "9. Node visited: 7\n",
      "*********************************\n",
      "1. Node visited: 1\n",
      "2. Node visited: 2\n",
      "3. Node visited: 4\n",
      "4. Node visited: 8\n",
      "5. Node visited: 9\n",
      "6. Node visited: 3\n",
      "7. Node visited: 5\n",
      "8. Node visited: 6\n",
      "9. Node visited: 7\n"
     ]
    }
   ],
   "source": [
    "from collections import deque\n",
    "problem = GraphProblem(initial=1, goal=7, graph=graph)\n",
    "\n",
    "def breadth_first_graph_search(problem):\n",
    "    visited = set()\n",
    "    frontier = deque()\n",
    "    \n",
    "    frontier.append(problem.initial)\n",
    "    counter = 1\n",
    "    while frontier:\n",
    "        popped = frontier.popleft()\n",
    "        if popped not in problem.graph or popped in visited: # maybe you put an inital value that does not exist in the graph in the first place\n",
    "            continue\n",
    "        visited.add(popped)\n",
    "        print(f\"{counter}. Node visited: {popped}\")\n",
    "        \n",
    "        for neighbor in problem.graph[popped]:\n",
    "            if neighbor not in visited:\n",
    "                frontier.append(neighbor)\n",
    "        counter+=1\n",
    "        \n",
    "breadth_first_graph_search(problem)\n",
    "\n",
    "def depth_first_graph_search(problem):\n",
    "    stack = []\n",
    "    visited = set()\n",
    "    stack.append(problem.initial)\n",
    "    visited.add(problem.initial)\n",
    "\n",
    "    counter = 1\n",
    "    while stack:\n",
    "        popped = stack.pop()\n",
    "        print(f\"{counter}. Node visited: {popped}\")\n",
    "        for neighbor in reversed(problem.graph[popped]): # we should be popping in reverse order\n",
    "            if neighbor not in visited:\n",
    "                stack.append(neighbor)\n",
    "                visited.add(neighbor)\n",
    "        counter += 1\n",
    "\n",
    "\n",
    "\n",
    "\n",
    "print(\"*********************************\")\n",
    "depth_first_graph_search(problem)\n",
    "    "
   ]
  },
  {
   "cell_type": "markdown",
   "id": "97d90274",
   "metadata": {},
   "source": [
    "---\n",
    "**Question 4. (20 points, 10 points each for BFS and DFS)**"
   ]
  },
  {
   "cell_type": "markdown",
   "id": "61c4ba81",
   "metadata": {},
   "source": [
    "Modify these functions to return the optimal path from source to destination upon termination of a successful search.  The easiest way to do this is to start at the goal node then work backwards to the node that immediately preceeded it in the search.  Once you have this, find the node that preceeded it, etc.  Hint: A dictionary may prove useful here."
   ]
  },
  {
   "cell_type": "code",
   "execution_count": 5,
   "id": "64b02b85",
   "metadata": {},
   "outputs": [
    {
     "name": "stdout",
     "output_type": "stream",
     "text": [
      "The path to get from 1 to 7: [1, 3, 5, 6, 7]\n"
     ]
    }
   ],
   "source": [
    "def breadth_first_graph_search(problem):\n",
    "    visited = set()\n",
    "    frontier = deque()\n",
    "    origin = {}\n",
    "    \n",
    "    frontier.append(problem.initial)\n",
    "    while frontier:\n",
    "        popped = frontier.popleft()\n",
    "        if popped not in problem.graph or popped in visited: \n",
    "            continue\n",
    "        if popped == problem.goal:\n",
    "            path_to_goal = []\n",
    "\n",
    "            while popped is not None:\n",
    "                path_to_goal.append(popped)\n",
    "                popped = origin.get(popped, None)\n",
    "            path_to_goal.reverse()\n",
    "            return path_to_goal\n",
    "        \n",
    "        visited.add(popped)\n",
    "        \n",
    "        for neighbor in problem.graph[popped]:\n",
    "            if neighbor not in visited:\n",
    "                frontier.append(neighbor)\n",
    "                origin[neighbor] = popped\n",
    "    return []\n",
    "\n",
    "problem = GraphProblem(initial=1, goal=7, graph=graph)\n",
    "path = breadth_first_graph_search(problem)\n",
    "print(f\"The path to get from 1 to 7: {path}\")\n"
   ]
  },
  {
   "cell_type": "code",
   "execution_count": 6,
   "id": "ebca9bea-b018-49c9-9c0e-5fcafd4dd371",
   "metadata": {},
   "outputs": [
    {
     "name": "stdout",
     "output_type": "stream",
     "text": [
      "The path to get from 1 to 7: [1, 3, 5, 6, 7]\n"
     ]
    }
   ],
   "source": [
    "def depth_first_graph_search(problem):\n",
    "    stack = []\n",
    "    visited = set()\n",
    "    stack.append(problem.initial)\n",
    "    visited.add(problem.initial)\n",
    "\n",
    "    origin = {}\n",
    "\n",
    "    while stack:\n",
    "        popped = stack.pop()\n",
    "        if popped == problem.goal:\n",
    "            path_to_goal = []\n",
    "            while popped is not None:\n",
    "                path_to_goal.append(popped)\n",
    "                popped = origin.get(popped, None)\n",
    "            path_to_goal.reverse()\n",
    "            return path_to_goal\n",
    "            \n",
    "        for neighbor in reversed(problem.graph[popped]): # we should be popping in reverse order\n",
    "            if neighbor not in visited:\n",
    "                stack.append(neighbor)\n",
    "                visited.add(neighbor)\n",
    "                origin[neighbor] = popped\n",
    "\n",
    "    return []\n",
    "\n",
    "problem = GraphProblem(initial=1, goal=7, graph=graph)\n",
    "path = depth_first_graph_search(problem)\n",
    "print(f\"The path to get from 1 to 7: {path}\")"
   ]
  },
  {
   "cell_type": "markdown",
   "id": "d1451837",
   "metadata": {},
   "source": [
    "---\n",
    "**Question 5. (10 points)**"
   ]
  },
  {
   "cell_type": "markdown",
   "id": "071d5bbf",
   "metadata": {},
   "source": [
    "Are the paths for BFS and DFS different? Write 2-3 sentences explaining why they are or are not different."
   ]
  },
  {
   "cell_type": "markdown",
   "id": "0c4c0142",
   "metadata": {},
   "source": [
    "The path is exactly the same which is `[1, 3, 5, 6, 7]`. BFS guarantees the shortest path, while DFS may return a different path depending on the graph structure, and crucially, the order in which the neighbors were visited. Since the graph structure here is not complicated and forces both searches to follow the same chain of nodes to reach the goal, their returned paths match."
   ]
  },
  {
   "cell_type": "markdown",
   "id": "59c1ae21",
   "metadata": {},
   "source": []
  }
 ],
 "metadata": {
  "kernelspec": {
   "display_name": "Python 3",
   "language": "python",
   "name": "python3"
  },
  "language_info": {
   "codemirror_mode": {
    "name": "ipython",
    "version": 3
   },
   "file_extension": ".py",
   "mimetype": "text/x-python",
   "name": "python",
   "nbconvert_exporter": "python",
   "pygments_lexer": "ipython3",
   "version": "3.13.2"
  }
 },
 "nbformat": 4,
 "nbformat_minor": 5
}
