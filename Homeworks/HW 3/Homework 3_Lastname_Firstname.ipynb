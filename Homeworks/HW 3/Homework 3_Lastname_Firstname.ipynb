{
 "cells": [
  {
   "cell_type": "markdown",
   "metadata": {},
   "source": [
    "# CSCI 3202, Fall 2025\n",
    "### Homework 3\n",
    "### Points: 110\n",
    "### Due: Wednesday, September 17, 2025\n",
    "\n",
    "<br> \n",
    "\n",
    "## Your name: Abdullah Yassine\n",
    "\n",
    "<br>\n",
    "\n",
    "---"
   ]
  },
  {
   "cell_type": "code",
   "execution_count": 1,
   "metadata": {},
   "outputs": [],
   "source": [
    "import numpy as np\n",
    "import matplotlib.pyplot as plt\n",
    "from matplotlib import colors\n",
    "from collections import deque\n",
    "import heapq"
   ]
  },
  {
   "cell_type": "markdown",
   "metadata": {},
   "source": [
    "---\n",
    "## Problem 1\n",
    "\n",
    "### Discrete Robot Path Planning\n",
    "\n",
    "A robotics group at CU needs some help designing a path planning algorithm that can navigate around the engineering center. To get started they have designed two test environments for you to implement breadth-first, depth-first, and uniform-cost search.\n",
    "\n",
    "- In the first environment, every movement to an adjacent cell has a cost of 1. The first environment will be represented by the `edge_weights_1` dictionary. \n",
    "\n",
    "- In the second enviornment, traveling to adjacent cells has a random int cost between 1 and 100. The second environment will be represented by the `edge_weights_2` dictionary. \n",
    "\n",
    "- Both setups have the same obstacles, free space, and goal. The code below creates and gives a visual representation of the robot's environment. \n",
    "\n",
    "- The first figure shows the environment itself with free spaces, barriers, robot start, and goal point. \n",
    "\n",
    "- The second image shows an example of what a path might look like as the robot moves through the environment.\n",
    "\n",
    "### Color representation\n",
    "yellow = obstacle\n",
    "\n",
    "teal = free space\n",
    "\n",
    "pink = goal\n",
    "\n",
    "grey = robot start\n",
    "\n",
    "red = part of the path"
   ]
  },
  {
   "cell_type": "code",
   "execution_count": 2,
   "metadata": {},
   "outputs": [
    {
     "data": {
      "image/png": "[encoded data removed]",
      "text/plain": [
       "<Figure size 640x480 with 1 Axes>"
      ]
     },
     "metadata": {},
     "output_type": "display_data"
    },
    {
     "data": {
      "image/png": "[encoded data removed]",
      "text/plain": [
       "<Figure size 640x480 with 1 Axes>"
      ]
     },
     "metadata": {},
     "output_type": "display_data"
    }
   ],
   "source": [
    "# Given code\n",
    "def show_path(env, path):\n",
    "    env_copy = np.copy(env)\n",
    "    for cell in path:\n",
    "        if(env_copy[cell[0]][cell[1]] >= 5 and env_copy[cell[0]][cell[1]] < 20):\n",
    "            env_copy[cell[0]][cell[1]] = 41\n",
    "    show_env(env_copy)\n",
    "    \n",
    "        \n",
    "def show_env(env):\n",
    "    cmap = colors.ListedColormap(['yellow', 'teal', 'pink', 'grey', 'red'])\n",
    "    bounds = [0,5,20,30,40,41]\n",
    "    norm = colors.BoundaryNorm(bounds, cmap.N)\n",
    "\n",
    "    fig, ax = plt.subplots()\n",
    "    ax.imshow(env, cmap=cmap, norm=norm)\n",
    "    ax.grid(which='major', axis='both', linestyle='-', color='k', linewidth=2)\n",
    "    ax.set_xticks(np.arange(-.5, 10, 1));\n",
    "    ax.set_yticks(np.arange(-.5, 10, 1));\n",
    "    ax.xaxis.set_ticklabels([])\n",
    "    ax.yaxis.set_ticklabels([])\n",
    "\n",
    "    plt.show()\n",
    "    \n",
    "    \n",
    "\n",
    "np.random.seed(303)\n",
    "env = np.random.rand(10, 10) * 20\n",
    "#set robot start position, grey color spot\n",
    "start = (0, 0)\n",
    "env[start[0]][start[1]] = 31\n",
    "\n",
    "#set goal position pink square\n",
    "goal = (8, 9)\n",
    "\n",
    "env[goal[0]][goal[1]] = 21\n",
    "\n",
    "# show the original graph\n",
    "show_env(env)\n",
    "\n",
    "# show an example path in the original graph, not a valid path\n",
    "# Note: the path prints as red only if there isn't an obstacle there.\n",
    "example_path = [(1,1), (1,2), (1,3), (1,4), (2,4), (3,4), (4,4), (5,4), (6,4), (7,4), (8,4), (8,5),(8,6),(8,7),(8,8)]\n",
    "show_path(env, example_path)"
   ]
  },
  {
   "cell_type": "markdown",
   "metadata": {},
   "source": [
    "### Graph Representation\n",
    "We represent the graph above as an adjacency dict in the following code. You can see what edges any cell has by indexing into the two dicts: \n",
    "- `edge_weights_1`\n",
    "- `edge_weights_2`\n",
    "\n",
    "For indexing, the top left of the graph is (row=0, col=0). Row values increase downward and column values increase to the right. \n",
    "\n",
    "So for example, if you wanted to look at the pink cell's (the goal location) connections you can call `print(edge_weights_2[(8,9)])` "
   ]
  },
  {
   "cell_type": "code",
   "execution_count": 4,
   "metadata": {},
   "outputs": [
    {
     "name": "stdout",
     "output_type": "stream",
     "text": [
      "goal:    {(7, 9): 5, (7, 8): 68}\n",
      "(8, 9):  {(7, 9): 5, (7, 8): 68}\n"
     ]
    }
   ],
   "source": [
    "# create dictionary\n",
    "edge_weights_1 = {}\n",
    "edge_weights_2 = {}\n",
    "\n",
    "for row, row_vals in enumerate(env):\n",
    "    for col, val in enumerate(env[row]):\n",
    "        # create dictionary\n",
    "        edge_weights_1[(row, col)] = {}\n",
    "        edge_weights_2[(row, col)] = {}\n",
    "            \n",
    "        #set all 6 direction options in edge_wights\n",
    "        # 1) up\n",
    "        if(row > 0):\n",
    "            edge_weights_1[(row, col)][(row-1, col)] = 1\n",
    "            edge_weights_2[(row, col)][(row-1, col)] = np.random.randint(101)\n",
    "            if(col > 0):\n",
    "                edge_weights_1[(row, col)][(row-1, col-1)] = 1\n",
    "                edge_weights_2[(row, col)][(row-1, col-1)] = np.random.randint(101)\n",
    "            if(col < 9):\n",
    "                edge_weights_1[(row, col)][(row-1, col+1)] = 1\n",
    "                edge_weights_2[(row, col)][(row-1, col+1)] = np.random.randint(101)\n",
    "                \n",
    "                \n",
    "        #2) left\n",
    "        if(col > 0):\n",
    "            edge_weights_1[(row, col)][(row, col-1)] = 1\n",
    "            edge_weights_2[(row, col)][(row, col-1)] = np.random.randint(101)\n",
    "            if(row < 9):\n",
    "                edge_weights_1[(row, col)][(row+1, col-1)] = 1\n",
    "                edge_weights_2[(row, col)][(row+1, col-1)] = np.random.randint(101)\n",
    "                \n",
    "        #3) down \n",
    "        if(row < 9):\n",
    "                edge_weights_1[(row, col)][(row+1, col)] = 1\n",
    "                edge_weights_2[(row, col)][(row+1, col)] = np.random.randint(101)\n",
    "                if(col < 9): \n",
    "                    edge_weights_1[(row, col)][(row+1, col+1)] = 1\n",
    "                    edge_weights_2[(row, col)][(row+1, col+1)] = np.random.randint(101)\n",
    "        \n",
    "        #) right\n",
    "        if(col < 9):\n",
    "                edge_weights_1[(row, col)][(row, col+1)] = 1\n",
    "                edge_weights_2[(row, col)][(row, col+1)] = np.random.randint(101)\n",
    "\n",
    "for first_node in list(edge_weights_2.keys()):\n",
    "    for second_node in list(edge_weights_2[first_node].keys()):\n",
    "        \n",
    "        # if first_node is yellow (an obstacle) the connection going both ways should be removed\n",
    "        if(env[first_node[0]][[first_node[1]]] < 5):\n",
    "            edge_weights_2[first_node].pop(second_node)\n",
    "            edge_weights_2[second_node].pop(first_node)\n",
    "            edge_weights_1[first_node].pop(second_node)\n",
    "            edge_weights_1[second_node].pop(first_node)\n",
    "        # if there is a connection, make sure both edges are the same\n",
    "        else:\n",
    "            w1 = edge_weights_2[first_node][second_node]\n",
    "            w2 = edge_weights_2[second_node][first_node]\n",
    "            if(w1 != w2):\n",
    "                edge_weights_2[first_node][second_node] = edge_weights_2[second_node][first_node]\n",
    "                \n",
    "                \n",
    "# These represent the same location\n",
    "print('goal:   ', edge_weights_2[goal])\n",
    "print('(8, 9): ', edge_weights_2[(8,9)])"
   ]
  },
  {
   "cell_type": "markdown",
   "metadata": {},
   "source": [
    "### Useful helper routines for searching\n"
   ]
  },
  {
   "cell_type": "code",
   "execution_count": 5,
   "metadata": {},
   "outputs": [],
   "source": [
    "def path(previous, s): \n",
    "    '''\n",
    "    `previous` is a dictionary chaining together the predecessor state that led to each state\n",
    "    `s` will be None for the initial state\n",
    "    otherwise, start from the last state `s` and recursively trace `previous` back to the initial state,\n",
    "    constructing a list of states visited as we go\n",
    "    '''\n",
    "    if s is None:\n",
    "        return []\n",
    "    else:\n",
    "        return path(previous, previous[s])+[s]\n",
    "\n",
    "def pathcost(path, step_costs):\n",
    "    '''\n",
    "    add up the step costs along a path, which is assumed to be a list output from the `path` function above\n",
    "    '''\n",
    "    cost = 0\n",
    "    for s in range(len(path)-1):\n",
    "        cost += step_costs[path[s]][path[s+1]]\n",
    "    return cost"
   ]
  },
  {
   "cell_type": "code",
   "execution_count": 6,
   "metadata": {},
   "outputs": [],
   "source": [
    "def check_map(step_costs):\n",
    "    ''' function to check if all the path costs are at least symmetric '''\n",
    "    check_states = []\n",
    "    for state1 in step_costs.keys():\n",
    "        for state2 in step_costs[state1].keys():\n",
    "            uh_oh = step_costs[state2][state1]!=step_costs[state1][state2]\n",
    "            if uh_oh:\n",
    "                print('Check the costs between states {} and {}'.format(state1,state2))\n",
    "                check_states.append([state1,state2])\n",
    "    if len(check_states)==0:\n",
    "        print('all okay! (symmetric at least)')\n",
    "    return check_states"
   ]
  },
  {
   "cell_type": "markdown",
   "metadata": {},
   "source": [
    "---\n",
    "### 1(a) (10 points)\n",
    "\n",
    "#### Breadth-first search\n",
    "\n",
    "Implement a function **breadth_first(start, goal, state_graph, return_cost)** to search the state space defined by the **state_graph** using breadth-first search:\n",
    "* **start**: initial state (e.g., '(0,0)' or `start`)\n",
    "* **end**: goal state (e.g., '(8,9)' or `goal`)\n",
    "* **state_graph**: the dictionary defining the edge costs (e.g., `edge_weights_1` or `edge_weights_2`)\n",
    "* **return_cost**: logical input representing whether or not to return the solution path cost\n",
    "  * If **True**, then the output should be a tuple where the first value is the list representing the solution path as tuples (row, col) and the second value is the path cost\n",
    "  * If **False**, then the only output is the solution path list object\n",
    "\n",
    "Note that in the helper functions above, two useful routines for obtaining your solution path are provided (and can be used for all the search algorithms):\n",
    "  * **path(previous, s)**: returns a list representing a path to state **s**, where **previous** is a dictionary that maps predecessors (values) to successors (keys)\n",
    "  * **pathcost(path, step_costs)**: adds up the step costs defined by the **step_costs** graph (e.g., `edge_weights_2`) along the list of states **path**"
   ]
  },
  {
   "cell_type": "code",
   "execution_count": 66,
   "metadata": {},
   "outputs": [],
   "source": [
    "# Your solution here"
   ]
  },
  {
   "cell_type": "markdown",
   "metadata": {},
   "source": [
    "---\n",
    "### 1(b) (10 points)\n",
    "\n",
    "#### Uniform-cost search\n",
    "\n",
    "First, let's create our own `Frontier_PQ` class to represent the frontier (priority queue) for uniform-cost search.  Note that the `heapq` package is imported in the helpers at the bottom of this notebook; you may find that package useful.  You could also use the `Queue` package.  Your implementation of the uniform-cost search frontier should adhere to these specifications:\n",
    "* Instantiation arguments: \n",
    "  * **Frontier_PQ(start, cost)**\n",
    "  * **start** is the initial state (e.g., **start**=(0,0) or `start`)\n",
    "  * **cost** is the initial path cost (what should it be for the initial state?)\n",
    "* Instantiation attributes/methods:\n",
    "  * **states**: maintains a dictionary of states on the frontier, along with the _minimum_ path cost to arrive at them\n",
    "  * **q**: a list of (cost, state) tuples, representing the elements on the frontier; should be treated as a priority queue (in contrast to the **states** dictionary, which is meant to keep track of the lowest-cost to each state)\n",
    "  * appropriately initialize the starting state and cost\n",
    "* Methods to implement:\n",
    "  * **add(state, cost)**: add the (cost, state) tuple to the frontier\n",
    "  * **pop()**: return the lowest-cost (cost, state) tuple, and pop it off the frontier\n",
    "  * **replace(state, cost)**: if you find a lower-cost path to a state that's already on the frontier, it should be replaced using this method.\n",
    "  \n",
    "Note that there is some redundancy between the information stored in **states** and **q**. We only suggest to code it in this way because we think it's the most straightforward way to get something working. You could reduce the storage requirements by eliminating the redundancy, but it increases the time complexity because of the function calls needed to manipulate your priority queue to check for states (since that isn't how the frontier queue is ordered)."
   ]
  },
  {
   "cell_type": "code",
   "execution_count": 67,
   "metadata": {},
   "outputs": [],
   "source": [
    "# Your solution here"
   ]
  },
  {
   "cell_type": "markdown",
   "metadata": {},
   "source": [
    "Now, actually implement a function to search using `uniform_cost` search, called as **uniform_cost(start, goal, state_graph, return_cost)**:\n",
    "* **start**: initial state\n",
    "* **goal**: goal state\n",
    "* **state_graph**: graph representing the connectivity and step costs of the state space (e.g., **edge_weights_1** or **edge_weights_2**)\n",
    "* **return_cost**: logical input representing whether or not to return the solution path cost\n",
    "  * If **True**, then the output should be a tuple where the first value is the list representing the solution path and the second value is the path cost\n",
    "  * If **False**, then the only output is the solution path list object"
   ]
  },
  {
   "cell_type": "code",
   "execution_count": 68,
   "metadata": {},
   "outputs": [],
   "source": [
    "# Your solution here"
   ]
  },
  {
   "cell_type": "markdown",
   "metadata": {},
   "source": [
    "---\n",
    "\n",
    "### 1(c) (30 points)\n",
    "\n",
    "In the code cell below, for each of the two search algorithms defined above (in **1a** and **1b**), display the following information to the screen:\n",
    "\n",
    "First, use `edge_weights_1`:\n",
    "1) Print the path from start to goal \n",
    "2) Print the total cost of that path\n",
    "3) Use the `show_path(env, path)` function to showcase the output your search algorithm. \n",
    "\n",
    "Second, use `edge_weights_2`:\n",
    "1) Print the path from start to goal \n",
    "2) Print the total cost of that path\n",
    "3) Use the `show_path(env, path)` function to showcase the output your search algorithm. \n",
    "\n",
    "\n",
    "Then, in a markdown cell below your code cell, write a few sentences:\n",
    "* Which algorithm yields the shortest path for both edge weights?\n",
    "* Does this surprise you? Or is this your expected result?"
   ]
  },
  {
   "cell_type": "code",
   "execution_count": null,
   "metadata": {
    "scrolled": true
   },
   "outputs": [],
   "source": [
    "# Your solution here"
   ]
  },
  {
   "cell_type": "code",
   "execution_count": null,
   "metadata": {},
   "outputs": [],
   "source": [
    "# Your solution here"
   ]
  },
  {
   "attachments": {},
   "cell_type": "markdown",
   "metadata": {
    "editable": true,
    "slideshow": {
     "slide_type": ""
    },
    "tags": []
   },
   "source": [
    "---\n",
    "## Problem 2: A*\n",
    "Use the graph below to go through the A* algorithm by hand to determine the path that should be taken from $A$ to $G$. Heuristic values are shown in purple near each node. Step costs between nodes are shown near each respective edge in green.\n",
    "\n",
    "<div>\n",
    "<img src=\"AStar Graph.png\" width=\"35%\"/>\n",
    "</div>\n",
    "\n",
    "### 2(a) (10 points)\n",
    "Create a table in the cell below showing the Step (each time you pop a node from the stack create a new step), the Frontier with the estimated path cost for each node (path cost to each node plus the estimated cost from the node to the goal), a list of explanded nodes, and an action list showing which node was expanded and the nodes that were visited due to that expansion.  If there are any ties, break them in alphabetical order."
   ]
  },
  {
   "cell_type": "code",
   "execution_count": null,
   "metadata": {},
   "outputs": [],
   "source": [
    "# Your solution here"
   ]
  },
  {
   "cell_type": "markdown",
   "metadata": {},
   "source": [
    "### 2(b) (5 points)\n",
    "What is the final path chosen by the algorithm?  What is the path cost?"
   ]
  },
  {
   "cell_type": "code",
   "execution_count": null,
   "metadata": {},
   "outputs": [],
   "source": [
    "# Your solution here"
   ]
  },
  {
   "cell_type": "markdown",
   "metadata": {},
   "source": [
    "### 2(c) - robot path planning (20 points)\n",
    "\n",
    "Using the robot environment in Problem 1, implement the A* algorithm using a Euclidean distance heuristic. In this implementation $h(n) = \\sqrt{(x_g - x_n)^2 + (y_g - y_n)^2}$. In this equation; $x_g$ and $x_n$ represent the column location of goal and current node, repectively. The variables $y_g$ and $y_n$ are the row values of each node.\n",
    "\n",
    "Run your code and display the results visually using the `show_path` method.\n",
    "\n"
   ]
  },
  {
   "cell_type": "code",
   "execution_count": 72,
   "metadata": {},
   "outputs": [],
   "source": [
    "# Your A* and heuristic code here"
   ]
  },
  {
   "cell_type": "code",
   "execution_count": null,
   "metadata": {},
   "outputs": [],
   "source": [
    "# Next we show the solution paths for edge_weights_2\n",
    "start = (0,0)\n",
    "goal = (8,9)\n",
    "graph_1 = edge_weights_1\n",
    "graph_2 = edge_weights_2\n",
    "a_star_ret_1 = a_star(start, goal, graph_1, True)\n",
    "a_star_ret_2 = a_star(start, goal, graph_2, True)\n",
    "\n",
    "print(\"---------------------------------\")\n",
    "print(\"A* solution edge_weights_1: \", a_star_ret_1)\n",
    "print(\"---------------------------------\")\n",
    "print(\"A* solution edge_weights_2:\", a_star_ret_2)\n",
    "print(\"---------------------------------\")\n",
    "\n",
    "\n",
    "\n",
    "show_env(env)\n",
    "print('A* edge_weights_1')\n",
    "show_path(env, a_star_ret_1[0])\n",
    "print('A* edge_weights_2')\n",
    "show_path(env, a_star_ret_2[0])"
   ]
  },
  {
   "cell_type": "markdown",
   "metadata": {},
   "source": [
    "### 2(d) (10 points)\n",
    "Explain what benefits this algorithm has over bfs, dfs, and ucs, generally speaking, and how the results compare to your results for bfs and ucs implemented in Question 1."
   ]
  },
  {
   "cell_type": "markdown",
   "metadata": {},
   "source": [
    "A* is optimal, complete, and optimally efficient. That is, A* will find an optimal solution (optimal), is guaranteed to find the solution if it exists (complete), and no other algorithm is guaranteed to expand fewer nodes than A* (optimally efficient). This puts A* at an advantage over bfs and dfs, which while both are complete, neither are optimal nor guaranteed better efficiency than A*. UCS can guarantee optimality in graphs with positive edge weights, but A* is still more efficient, as it will never expand more nodes than UCS with an admissible heuristic. We can see above that A* performed better than BFS (cost of 517.0 vs 349.0) and as well as UCS (349.0 vs 349.0) when run on edge_weights_2, which is consistent with what has been discussed above."
   ]
  },
  {
   "cell_type": "markdown",
   "metadata": {},
   "source": [
    "---\n",
    "## Problem 3 - Heuristics\n",
    "\n",
    "For questions 3A, 3B, and 3C answer True or False and provide a brief explanation, or a counterexample where applicable.\n",
    "\n",
    "### Part 3(a) (5 points) \n",
    "Depth-first search always expands at least as many nodes as A* search with an admissible heuristic.\n",
    "\n",
    "### Part 3(b) (5 points) \n",
    "Uniform cost search always expands at least as many nodes as A* search with an admissible heuristic.\n",
    "\n",
    "\n",
    "### Part 3(c) (5 points)\n",
    "In the game of chess, in a single move, a rook can move any number of squares on a chessboard in a straight line, either vertically or horizontally, but cannot jump over other pieces. Manhattan distance is an admissible heuristic for the smallest number of moves required to move the rook from square A to square B.\n",
    "\n"
   ]
  },
  {
   "cell_type": "code",
   "execution_count": null,
   "metadata": {},
   "outputs": [],
   "source": [
    "# Your answers here"
   ]
  },
  {
   "cell_type": "code",
   "execution_count": null,
   "metadata": {},
   "outputs": [],
   "source": []
  }
 ],
 "metadata": {
  "kernelspec": {
   "display_name": "Python 3",
   "language": "python",
   "name": "python3"
  },
  "language_info": {
   "codemirror_mode": {
    "name": "ipython",
    "version": 3
   },
   "file_extension": ".py",
   "mimetype": "text/x-python",
   "name": "python",
   "nbconvert_exporter": "python",
   "pygments_lexer": "ipython3",
   "version": "3.13.2"
  }
 },
 "nbformat": 4,
 "nbformat_minor": 4
}
